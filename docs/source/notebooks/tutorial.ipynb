{
 "cells": [
  {
   "cell_type": "markdown",
   "metadata": {},
   "source": [
    "# Tutorial for Caterpillar Diagram"
   ]
  },
  {
   "cell_type": "code",
   "execution_count": 7,
   "metadata": {},
   "outputs": [],
   "source": [
    "import numpy as np\n",
    "import pandas as pd\n",
    "# from caterpillard import CaterpillarDiagram"
   ]
  },
  {
   "cell_type": "code",
   "execution_count": 2,
   "metadata": {},
   "outputs": [],
   "source": [
    "from pathlib import Path\n",
    "import os"
   ]
  },
  {
   "cell_type": "code",
   "execution_count": 3,
   "metadata": {},
   "outputs": [
    {
     "name": "stdout",
     "output_type": "stream",
     "text": [
      "/cloud/Dropbox/work/Universe/iit_kanpur/Research_IITK/omnipresent/codes/temp_build_pkg_dir/caterpillard/docs/source/notebooks\n",
      "/cloud/Dropbox/work/Universe/iit_kanpur/Research_IITK/omnipresent/codes/temp_build_pkg_dir/caterpillard/src/caterpillard\n"
     ]
    }
   ],
   "source": [
    "print(Path.cwd())\n",
    "os.chdir(\"../../../src/caterpillard/\")\n",
    "print(Path.cwd())"
   ]
  },
  {
   "cell_type": "code",
   "execution_count": 5,
   "metadata": {},
   "outputs": [
    {
     "name": "stdout",
     "output_type": "stream",
     "text": [
      "[7 7 5 7 5 9 2 8 1 3 6]\n"
     ]
    }
   ],
   "source": [
    "print(np.random.randint(1, 10, size=11))"
   ]
  },
  {
   "cell_type": "code",
   "execution_count": 4,
   "metadata": {},
   "outputs": [],
   "source": [
    "from caterpillar import CaterpillarDiagram"
   ]
  },
  {
   "cell_type": "code",
   "execution_count": 8,
   "metadata": {},
   "outputs": [],
   "source": [
    "data = pd.read_csv(\n",
    "    \"/home/prabal/code_testbed_general/caterd/input/caterpillar_test_data.csv\",\n",
    "    index_col=[0],\n",
    ")\n",
    "c_d = CaterpillarDiagram(data=data, relative=True, output_path=None)"
   ]
  }
 ],
 "metadata": {
  "kernelspec": {
   "display_name": "Python 3.8.2 ('devenv')",
   "language": "python",
   "name": "python3"
  },
  "language_info": {
   "codemirror_mode": {
    "name": "ipython",
    "version": 3
   },
   "file_extension": ".py",
   "mimetype": "text/x-python",
   "name": "python",
   "nbconvert_exporter": "python",
   "pygments_lexer": "ipython3",
   "version": "3.8.2"
  },
  "orig_nbformat": 4,
  "vscode": {
   "interpreter": {
    "hash": "33607edd431f77a350415490920a41ca06f515890a9a346f0f1a5409cee14a8f"
   }
  }
 },
 "nbformat": 4,
 "nbformat_minor": 2
}
